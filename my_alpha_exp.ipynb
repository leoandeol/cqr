{
 "cells": [
  {
   "cell_type": "code",
   "execution_count": 11,
   "id": "adult-license",
   "metadata": {},
   "outputs": [
    {
     "name": "stderr",
     "output_type": "stream",
     "text": [
      "\r",
      "  0%|          | 0/1000 [00:00<?, ?it/s]"
     ]
    },
    {
     "name": "stdout",
     "output_type": "stream",
     "text": [
      "[0.00316228 0.00402961 0.00513483 0.00654319 0.00833782 0.01062468\n",
      " 0.01353876 0.01725211 0.02198393 0.02801357 0.03569699 0.04548778\n",
      " 0.05796394 0.073862   0.0941205  0.11993539 0.15283067 0.1947483\n",
      " 0.24816289 0.31622777]\n"
     ]
    },
    {
     "name": "stderr",
     "output_type": "stream",
     "text": [
      "100%|██████████| 1000/1000 [00:12<00:00, 79.13it/s]\n",
      "  0%|          | 0/1000 [00:00<?, ?it/s]"
     ]
    },
    {
     "name": "stdout",
     "output_type": "stream",
     "text": [
      "Quantile of E : 997.8345600621712\n",
      "Quantile of E (ceil): 998\n"
     ]
    },
    {
     "name": "stderr",
     "output_type": "stream",
     "text": [
      "100%|██████████| 1000/1000 [00:12<00:00, 79.19it/s]\n",
      "  0%|          | 0/1000 [00:00<?, ?it/s]"
     ]
    },
    {
     "name": "stdout",
     "output_type": "stream",
     "text": [
      "Quantile of E : 996.9663590684793\n",
      "Quantile of E (ceil): 997\n"
     ]
    },
    {
     "name": "stderr",
     "output_type": "stream",
     "text": [
      "100%|██████████| 1000/1000 [00:12<00:00, 79.79it/s]\n",
      "  0%|          | 0/1000 [00:00<?, ?it/s]"
     ]
    },
    {
     "name": "stdout",
     "output_type": "stream",
     "text": [
      "Quantile of E : 995.8600322596549\n",
      "Quantile of E (ceil): 996\n"
     ]
    },
    {
     "name": "stderr",
     "output_type": "stream",
     "text": [
      "100%|██████████| 1000/1000 [00:12<00:00, 80.82it/s]\n",
      "  0%|          | 0/1000 [00:00<?, ?it/s]"
     ]
    },
    {
     "name": "stdout",
     "output_type": "stream",
     "text": [
      "Quantile of E : 994.4502676811571\n",
      "Quantile of E (ceil): 995\n"
     ]
    },
    {
     "name": "stderr",
     "output_type": "stream",
     "text": [
      "100%|██████████| 1000/1000 [00:12<00:00, 81.02it/s]\n",
      "  0%|          | 0/1000 [00:00<?, ?it/s]"
     ]
    },
    {
     "name": "stdout",
     "output_type": "stream",
     "text": [
      "Quantile of E : 992.6538399430473\n",
      "Quantile of E (ceil): 993\n"
     ]
    },
    {
     "name": "stderr",
     "output_type": "stream",
     "text": [
      "100%|██████████| 1000/1000 [00:12<00:00, 79.40it/s]\n",
      "  0%|          | 0/1000 [00:00<?, ?it/s]"
     ]
    },
    {
     "name": "stdout",
     "output_type": "stream",
     "text": [
      "Quantile of E : 990.3646970127505\n",
      "Quantile of E (ceil): 991\n"
     ]
    },
    {
     "name": "stderr",
     "output_type": "stream",
     "text": [
      "100%|██████████| 1000/1000 [00:12<00:00, 80.49it/s]\n",
      "  0%|          | 0/1000 [00:00<?, ?it/s]"
     ]
    },
    {
     "name": "stdout",
     "output_type": "stream",
     "text": [
      "Quantile of E : 987.4476994379743\n",
      "Quantile of E (ceil): 988\n"
     ]
    },
    {
     "name": "stderr",
     "output_type": "stream",
     "text": [
      "100%|██████████| 1000/1000 [00:12<00:00, 80.43it/s]\n",
      "  0%|          | 0/1000 [00:00<?, ?it/s]"
     ]
    },
    {
     "name": "stdout",
     "output_type": "stream",
     "text": [
      "Quantile of E : 983.7306423950802\n",
      "Quantile of E (ceil): 984\n"
     ]
    },
    {
     "name": "stderr",
     "output_type": "stream",
     "text": [
      "100%|██████████| 1000/1000 [00:12<00:00, 81.75it/s]\n",
      "  0%|          | 0/1000 [00:00<?, ?it/s]"
     ]
    },
    {
     "name": "stdout",
     "output_type": "stream",
     "text": [
      "Quantile of E : 978.9940895848883\n",
      "Quantile of E (ceil): 979\n"
     ]
    },
    {
     "name": "stderr",
     "output_type": "stream",
     "text": [
      "100%|██████████| 1000/1000 [00:12<00:00, 78.23it/s]\n",
      "  0%|          | 0/1000 [00:00<?, ?it/s]"
     ]
    },
    {
     "name": "stdout",
     "output_type": "stream",
     "text": [
      "Quantile of E : 972.9584188203993\n",
      "Quantile of E (ceil): 973\n"
     ]
    },
    {
     "name": "stderr",
     "output_type": "stream",
     "text": [
      "100%|██████████| 1000/1000 [00:12<00:00, 77.72it/s]\n",
      "  0%|          | 0/1000 [00:00<?, ?it/s]"
     ]
    },
    {
     "name": "stdout",
     "output_type": "stream",
     "text": [
      "Quantile of E : 965.267314543271\n",
      "Quantile of E (ceil): 966\n"
     ]
    },
    {
     "name": "stderr",
     "output_type": "stream",
     "text": [
      "100%|██████████| 1000/1000 [00:12<00:00, 77.51it/s]\n",
      "  0%|          | 0/1000 [00:00<?, ?it/s]"
     ]
    },
    {
     "name": "stdout",
     "output_type": "stream",
     "text": [
      "Quantile of E : 955.466732750492\n",
      "Quantile of E (ceil): 956\n"
     ]
    },
    {
     "name": "stderr",
     "output_type": "stream",
     "text": [
      "100%|██████████| 1000/1000 [00:12<00:00, 78.33it/s]\n",
      "  0%|          | 0/1000 [00:00<?, ?it/s]"
     ]
    },
    {
     "name": "stdout",
     "output_type": "stream",
     "text": [
      "Quantile of E : 942.9780965266164\n",
      "Quantile of E (ceil): 943\n"
     ]
    },
    {
     "name": "stderr",
     "output_type": "stream",
     "text": [
      "100%|██████████| 1000/1000 [00:12<00:00, 78.81it/s]\n",
      "  0%|          | 0/1000 [00:00<?, ?it/s]"
     ]
    },
    {
     "name": "stdout",
     "output_type": "stream",
     "text": [
      "Quantile of E : 927.0641397809856\n",
      "Quantile of E (ceil): 928\n"
     ]
    },
    {
     "name": "stderr",
     "output_type": "stream",
     "text": [
      "100%|██████████| 1000/1000 [00:12<00:00, 80.36it/s]\n",
      "  0%|          | 0/1000 [00:00<?, ?it/s]"
     ]
    },
    {
     "name": "stdout",
     "output_type": "stream",
     "text": [
      "Quantile of E : 906.7853827764665\n",
      "Quantile of E (ceil): 907\n"
     ]
    },
    {
     "name": "stderr",
     "output_type": "stream",
     "text": [
      "100%|██████████| 1000/1000 [00:12<00:00, 80.42it/s]\n",
      "  0%|          | 0/1000 [00:00<?, ?it/s]"
     ]
    },
    {
     "name": "stdout",
     "output_type": "stream",
     "text": [
      "Quantile of E : 880.9446699844556\n",
      "Quantile of E (ceil): 881\n"
     ]
    },
    {
     "name": "stderr",
     "output_type": "stream",
     "text": [
      "100%|██████████| 1000/1000 [00:12<00:00, 79.15it/s]\n",
      "  0%|          | 0/1000 [00:00<?, ?it/s]"
     ]
    },
    {
     "name": "stdout",
     "output_type": "stream",
     "text": [
      "Quantile of E : 848.0164960608572\n",
      "Quantile of E (ceil): 849\n"
     ]
    },
    {
     "name": "stderr",
     "output_type": "stream",
     "text": [
      "100%|██████████| 1000/1000 [00:12<00:00, 77.89it/s]\n",
      "  0%|          | 0/1000 [00:00<?, ?it/s]"
     ]
    },
    {
     "name": "stdout",
     "output_type": "stream",
     "text": [
      "Quantile of E : 806.0569477051336\n",
      "Quantile of E (ceil): 807\n"
     ]
    },
    {
     "name": "stderr",
     "output_type": "stream",
     "text": [
      "100%|██████████| 1000/1000 [00:12<00:00, 77.55it/s]\n",
      "  0%|          | 0/1000 [00:00<?, ?it/s]"
     ]
    },
    {
     "name": "stdout",
     "output_type": "stream",
     "text": [
      "Quantile of E : 752.5889448240337\n",
      "Quantile of E (ceil): 753\n"
     ]
    },
    {
     "name": "stderr",
     "output_type": "stream",
     "text": [
      "100%|██████████| 1000/1000 [00:12<00:00, 80.44it/s]"
     ]
    },
    {
     "name": "stdout",
     "output_type": "stream",
     "text": [
      "Quantile of E : 684.456006217145\n",
      "Quantile of E (ceil): 685\n"
     ]
    },
    {
     "name": "stderr",
     "output_type": "stream",
     "text": [
      "\n"
     ]
    }
   ],
   "source": [
    "import torch\n",
    "import random\n",
    "import numpy as np\n",
    "import matplotlib.pyplot as plt\n",
    "np.warnings.filterwarnings('ignore')\n",
    "\n",
    "from datasets import datasets\n",
    "from sklearn.preprocessing import StandardScaler\n",
    "from torch.utils.data import TensorDataset, DataLoader\n",
    "from sklearn.model_selection import train_test_split\n",
    "from tqdm import tqdm\n",
    "\n",
    "alphas = np.logspace(-2.5,-0.5,20)\n",
    "print(alphas)\n",
    "Qs = []\n",
    "Cscore = []\n",
    "lengths = []\n",
    "\n",
    "for alpha in alphas:\n",
    "\n",
    "    seed = 1\n",
    "\n",
    "    random_state_train_test = seed\n",
    "    random.seed(seed)\n",
    "    np.random.seed(seed)\n",
    "    torch.manual_seed(seed)\n",
    "    if torch.cuda.is_available():\n",
    "        torch.cuda.manual_seed_all(seed)\n",
    "\n",
    "    # desired miscoverage error\n",
    "    #alpha = 0.01\n",
    "\n",
    "    # desired quanitile levels\n",
    "    quantiles = [alpha / 2, 1 - (alpha /2)]\n",
    "\n",
    "    # used to determine the size of test set\n",
    "    test_ratio = 0.2\n",
    "\n",
    "    # number of training examples\n",
    "    n_train = 2000\n",
    "    # number of test examples (to evaluate average coverage and length)\n",
    "    n_test = 5000\n",
    "\n",
    "    def f(x):\n",
    "        ''' Construct data (1D example)\n",
    "        '''\n",
    "        ax = 0*x\n",
    "        for i in range(len(x)):\n",
    "            ax[i] = np.random.poisson(np.sin(x[i])**2+0.1) + 0.03*x[i]*np.random.randn(1)\n",
    "            ax[i] += 25*(np.random.uniform(0,1,1)<0.01)*np.random.randn(1)\n",
    "        return ax.astype(np.float32)\n",
    "\n",
    "    # training features\n",
    "    x_train = np.random.uniform(0, 5.0, size=n_train).astype(np.float32)\n",
    "\n",
    "    # test features\n",
    "    x_test = np.random.uniform(0, 5.0, size=n_test).astype(np.float32)\n",
    "\n",
    "    # generate labels\n",
    "    y_train = f(x_train)\n",
    "    y_test = f(x_test)\n",
    "\n",
    "    # reshape the features\n",
    "    x_train = np.reshape(x_train,(n_train,1))\n",
    "    x_test = np.reshape(x_test,(n_test,1))\n",
    "\n",
    "    # divide the data into proper training set and calibration set\n",
    "    idx = np.random.permutation(n_train)\n",
    "    n_half = int(np.floor(n_train/2))\n",
    "    idx_train, idx_cal = idx[:n_half], idx[n_half:2*n_half]\n",
    "\n",
    "    class Net(torch.nn.Module):\n",
    "        def __init__(self, n_feature):\n",
    "            super(Net, self).__init__()\n",
    "            self.net = torch.nn.Sequential(torch.nn.Linear(n_feature, 64),\n",
    "                                           torch.nn.ReLU(),\n",
    "                                           #torch.nn.Dropout(0.1),\n",
    "                                           torch.nn.Linear(64, 64),\n",
    "                                           torch.nn.ReLU(),\n",
    "                                           #torch.nn.Dropout(0.1),\n",
    "                                           torch.nn.Linear(64, 2)\n",
    "            )\n",
    "            self.init_weights()\n",
    "\n",
    "        def init_weights(self):\n",
    "            for m in self.net:\n",
    "                if isinstance(m, torch.nn.Linear):\n",
    "                    torch.nn.init.orthogonal_(m.weight)\n",
    "                    torch.nn.init.constant_(m.bias, 0)\n",
    "\n",
    "\n",
    "        def forward(self, x):\n",
    "            x = self.net(x)             # linear output\n",
    "            return x\n",
    "\n",
    "    net = Net(n_feature=1) \n",
    "    optimizer = torch.optim.SGD(net.parameters(), lr=0.01, weight_decay=1e-6)\n",
    "    def loss_func(y, yhat, alpha):\n",
    "        return torch.maximum(alpha*(y-yhat),(1-alpha)*(yhat-y))\n",
    "\n",
    "    tensor_xtrain = torch.Tensor(x_train[idx_train]) # transform to torch tensor\n",
    "    tensor_ytrain = torch.Tensor(y_train[idx_train])\n",
    "\n",
    "    train_dataset = TensorDataset(tensor_xtrain,tensor_ytrain) # create your datset\n",
    "    train_dataloader = DataLoader(train_dataset, batch_size=64, shuffle=True) # create your dataloader\n",
    "\n",
    "    tensor_xcal = torch.Tensor(x_train[idx_cal]) # transform to torch tensor\n",
    "    tensor_ycal = torch.Tensor(y_train[idx_cal])\n",
    "\n",
    "    cal_dataset = TensorDataset(tensor_xcal,tensor_ycal) # create your datset\n",
    "    cal_dataloader = DataLoader(cal_dataset, batch_size=400, shuffle=False) # create your dataloader\n",
    "\n",
    "    tensor_xtest = torch.Tensor(x_test) # transform to torch tensor\n",
    "    tensor_ytest = torch.Tensor(y_test)\n",
    "\n",
    "    test_dataset = TensorDataset(tensor_xtest,tensor_ytest) # create your datset\n",
    "    test_dataloader = DataLoader(test_dataset, batch_size=400, shuffle=False) # create your dataloader\n",
    "\n",
    "    net.train()\n",
    "    for t in tqdm(range(1000)):\n",
    "        itera = iter(train_dataloader)\n",
    "        for i in range(len(itera)):\n",
    "            x,y = next(itera)\n",
    "            prediction = net(x)     # input x and predict based on x\n",
    "\n",
    "            loss1 = loss_func(y, prediction[:,0], quantiles[0])\n",
    "            loss2 = loss_func(y, prediction[:,1], quantiles[1])\n",
    "            loss = (loss1+loss2).mean()\n",
    "\n",
    "            optimizer.zero_grad()   # clear gradients for next train\n",
    "            loss.backward()         # backpropagation, compute gradients\n",
    "            optimizer.step()        # apply gradients\n",
    "\n",
    "    def predict(net, dataloader):\n",
    "        iteracal = iter(dataloader)\n",
    "        xs = []\n",
    "        ys = []\n",
    "        preds = []\n",
    "        net.eval()\n",
    "        for i in range(len(iteracal)):\n",
    "            x,y = next(iteracal)\n",
    "            with torch.no_grad():\n",
    "                prediction = net(x)     # input x and predict based on x\n",
    "\n",
    "                #loss = loss_func(y, prediction[:,0], quantiles[0])\n",
    "                #loss = loss_func(y, prediction[:,1], quantiles[1])\n",
    "\n",
    "                preds.append(prediction.numpy())      # apply gradients\n",
    "                xs.append(x)\n",
    "                ys.append(y)\n",
    "        preds = np.concatenate(preds)\n",
    "        xs = np.concatenate(xs)\n",
    "        ys = np.concatenate(ys)\n",
    "        return xs, ys, preds\n",
    "\n",
    "    def conformalize(net, cal_dataloader, alpha):\n",
    "        xs, ys, preds = predict(net, cal_dataloader)\n",
    "        E = np.maximum(preds[:,0]-ys, ys-preds[:,1])\n",
    "        E = np.sort(E)\n",
    "        quantile = (1-alpha)*(1+(1/len(E)))*len(E)\n",
    "        print(\"Quantile of E :\", quantile)\n",
    "        quantile = int(np.ceil(quantile))\n",
    "        print(\"Quantile of E (ceil):\", quantile)\n",
    "        Q = E[quantile]\n",
    "        return Q\n",
    "\n",
    "    def plot_func(x,\n",
    "                  y,\n",
    "                  y_u=None,\n",
    "                  y_l=None,\n",
    "                  pred=None,\n",
    "                  shade_color=\"\",\n",
    "                  method_name=\"\",\n",
    "                  title=\"\",\n",
    "                  filename=None,\n",
    "                  save_figures=False,\n",
    "                  zoom=True):\n",
    "\n",
    "        \"\"\" Scatter plot of (x,y) points along with the constructed prediction interval \n",
    "\n",
    "        Parameters\n",
    "        ----------\n",
    "        x : numpy array, corresponding to the feature of each of the n samples\n",
    "        y : numpy array, target response variable (length n)\n",
    "        pred : numpy array, the estimated prediction. It may be the conditional mean,\n",
    "               or low and high conditional quantiles.\n",
    "        shade_color : string, desired color of the prediciton interval\n",
    "        method_name : string, name of the method\n",
    "        title : string, the title of the figure\n",
    "        filename : sting, name of the file to save the figure\n",
    "        save_figures : boolean, save the figure (True) or not (False)\n",
    "\n",
    "        \"\"\"\n",
    "\n",
    "        max_show = 1000\n",
    "        x_ = x[:max_show]\n",
    "        y_ = y[:max_show]\n",
    "        if y_u is not None:\n",
    "            y_u_ = y_u[:max_show]\n",
    "        if y_l is not None:\n",
    "            y_l_ = y_l[:max_show]\n",
    "        if pred is not None:\n",
    "            pred_ = pred[:max_show]\n",
    "\n",
    "        fig = plt.figure()\n",
    "        inds = np.argsort(np.squeeze(x_))\n",
    "        plt.plot(x_[inds,:], y_[inds], 'k.', alpha=.2, markersize=10,\n",
    "                 fillstyle='none', label=u'Observations')\n",
    "\n",
    "        if (y_u is not None) and (y_l is not None):\n",
    "            plt.fill(np.concatenate([x_[inds], x_[inds][::-1]]),\n",
    "                     np.concatenate([y_u_[inds], y_l_[inds][::-1]]),\n",
    "                     alpha=.3, fc=shade_color, ec='None',\n",
    "                     label = method_name + ' prediction interval')\n",
    "\n",
    "        if pred is not None:\n",
    "            if pred_.ndim == 2:\n",
    "                plt.plot(x_[inds,:], pred_[inds,0], 'k', lw=2, alpha=0.9,\n",
    "                         label=u'Predicted low and high quantiles')\n",
    "                plt.plot(x_[inds,:], pred_[inds,1], 'k', lw=2, alpha=0.9)\n",
    "            else:\n",
    "                plt.plot(x_[inds,:], pred_[inds], 'k--', lw=2, alpha=0.9,\n",
    "                         label=u'Predicted value')\n",
    "\n",
    "        if zoom:\n",
    "            plt.ylim([-2.5, 7])\n",
    "        plt.xlabel('$X$')\n",
    "        plt.ylabel('$Y$')\n",
    "        plt.legend(loc='upper right')\n",
    "        plt.title(title)\n",
    "        if save_figures and (filename is not None):\n",
    "            plt.savefig(filename, bbox_inches='tight', dpi=300)\n",
    "\n",
    "        plt.show()\n",
    "\n",
    "    xt, yt, predt = predict(net, test_dataloader)\n",
    "    Q = conformalize(net, cal_dataloader, alpha)\n",
    "    final_predt = predt + np.array([[-Q, Q]])\n",
    "    def conformality_score(y, C):\n",
    "        score = np.logical_and(y>=C[:,0],y<=C[:,1])\n",
    "        return score.mean()\n",
    "    \n",
    "    Cscore.append(conformality_score(yt, final_predt))\n",
    "    Qs.append(Q)\n",
    "    lengths.append((final_predt[:,1]-final_predt[:,0]).mean())"
   ]
  },
  {
   "cell_type": "code",
   "execution_count": 12,
   "id": "attended-sherman",
   "metadata": {},
   "outputs": [
    {
     "data": {
      "text/plain": [
       "<matplotlib.legend.Legend at 0x7f570661f130>"
      ]
     },
     "execution_count": 12,
     "metadata": {},
     "output_type": "execute_result"
    },
    {
     "data": {
      "image/png": "[encoded data removed]",
      "text/plain": [
       "<Figure size 432x288 with 1 Axes>"
      ]
     },
     "metadata": {
      "needs_background": "light"
     },
     "output_type": "display_data"
    }
   ],
   "source": [
    "plt.plot(Qs, label=\"Q\")\n",
    "plt.plot(lengths, label=\"lengths\")\n",
    "plt.legend()"
   ]
  },
  {
   "cell_type": "code",
   "execution_count": 19,
   "id": "opposed-study",
   "metadata": {},
   "outputs": [
    {
     "data": {
      "text/plain": [
       "<matplotlib.legend.Legend at 0x7f57063080d0>"
      ]
     },
     "execution_count": 19,
     "metadata": {},
     "output_type": "execute_result"
    },
    {
     "data": {
      "image/png": "[encoded data removed]",
      "text/plain": [
       "<Figure size 432x288 with 1 Axes>"
      ]
     },
     "metadata": {
      "needs_background": "light"
     },
     "output_type": "display_data"
    }
   ],
   "source": [
    "fig = plt.figure()\n",
    "plt.plot(alphas, list([x/y for x,y in zip(Qs, lengths)]), label=\"Q/length\")\n",
    "#plt.xscale(\"log\")\n",
    "plt.legend()"
   ]
  },
  {
   "cell_type": "code",
   "execution_count": 31,
   "id": "found-magnitude",
   "metadata": {},
   "outputs": [
    {
     "data": {
      "text/plain": [
       "<matplotlib.legend.Legend at 0x7f5705bb3ca0>"
      ]
     },
     "execution_count": 31,
     "metadata": {},
     "output_type": "execute_result"
    },
    {
     "data": {
      "image/png": "[encoded data removed]",
      "text/plain": [
       "<Figure size 432x288 with 1 Axes>"
      ]
     },
     "metadata": {
      "needs_background": "light"
     },
     "output_type": "display_data"
    }
   ],
   "source": [
    "plt.plot(alphas, Cscore, label=\"Score de conformite\")\n",
    "plt.plot(alphas, 1-alphas, label=\"1-α\")\n",
    "plt.xlabel(\"α\")\n",
    "plt.legend()"
   ]
  },
  {
   "cell_type": "code",
   "execution_count": 35,
   "id": "black-termination",
   "metadata": {},
   "outputs": [
    {
     "data": {
      "text/plain": [
       "<matplotlib.legend.Legend at 0x7f57059524c0>"
      ]
     },
     "execution_count": 35,
     "metadata": {},
     "output_type": "execute_result"
    },
    {
     "data": {
      "image/png": "[encoded data removed]",
      "text/plain": [
       "<Figure size 432x288 with 1 Axes>"
      ]
     },
     "metadata": {
      "needs_background": "light"
     },
     "output_type": "display_data"
    }
   ],
   "source": [
    "plt.plot(alphas, Qs, label=\"Constante de Conformite\")\n",
    "plt.xlabel(\"α\")\n",
    "plt.legend()\n",
    "#plt.xscale(\"log\")"
   ]
  },
  {
   "cell_type": "code",
   "execution_count": 37,
   "id": "fatal-cycle",
   "metadata": {},
   "outputs": [
    {
     "data": {
      "text/plain": [
       "<matplotlib.legend.Legend at 0x7f570587e970>"
      ]
     },
     "execution_count": 37,
     "metadata": {},
     "output_type": "execute_result"
    },
    {
     "data": {
      "image/png": "[encoded data removed]",
      "text/plain": [
       "<Figure size 432x288 with 1 Axes>"
      ]
     },
     "metadata": {
      "needs_background": "light"
     },
     "output_type": "display_data"
    }
   ],
   "source": [
    "plt.plot(alphas, list([x/y for x,y in zip(Qs, lengths)]), label=\"Const. de Conformite / Long. Moyenne de l'intervalle\")\n",
    "plt.xlabel(\"α\")\n",
    "plt.legend()"
   ]
  },
  {
   "cell_type": "code",
   "execution_count": null,
   "id": "advised-scale",
   "metadata": {},
   "outputs": [],
   "source": []
  }
 ],
 "metadata": {
  "kernelspec": {
   "display_name": "Python 3",
   "language": "python",
   "name": "python3"
  },
  "language_info": {
   "codemirror_mode": {
    "name": "ipython",
    "version": 3
   },
   "file_extension": ".py",
   "mimetype": "text/x-python",
   "name": "python",
   "nbconvert_exporter": "python",
   "pygments_lexer": "ipython3",
   "version": "3.8.10"
  }
 },
 "nbformat": 4,
 "nbformat_minor": 5
}
