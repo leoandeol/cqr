{
 "cells": [
  {
   "cell_type": "code",
   "execution_count": 1,
   "id": "successful-bikini",
   "metadata": {},
   "outputs": [],
   "source": [
    "import torch\n",
    "import random\n",
    "import numpy as np\n",
    "import matplotlib.pyplot as plt\n",
    "np.warnings.filterwarnings('ignore')\n",
    "\n",
    "from datasets import datasets\n",
    "from sklearn.preprocessing import StandardScaler\n",
    "from torch.utils.data import TensorDataset, DataLoader\n",
    "from sklearn.model_selection import train_test_split\n",
    "from tqdm import tqdm\n",
    "\n",
    "seed = 1\n",
    "\n",
    "random_state_train_test = seed\n",
    "random.seed(seed)\n",
    "np.random.seed(seed)\n",
    "torch.manual_seed(seed)\n",
    "if torch.cuda.is_available():\n",
    "    torch.cuda.manual_seed_all(seed)\n",
    "    \n",
    "# desired miscoverage error\n",
    "alpha = 0.01\n",
    "\n",
    "# desired quanitile levels\n",
    "quantiles = [alpha / 2, 1 - (alpha /2)]\n",
    "\n",
    "# used to determine the size of test set\n",
    "test_ratio = 0.2\n",
    "\n"
   ]
  },
  {
   "cell_type": "code",
   "execution_count": 2,
   "id": "administrative-payment",
   "metadata": {},
   "outputs": [],
   "source": [
    "# # name of dataset\n",
    "# dataset_base_path = \"./datasets/\"\n",
    "# dataset_name = \"community\"\n",
    "\n",
    "# # load the dataset\n",
    "# X, y = datasets.GetDataset(dataset_name, dataset_base_path)\n",
    "\n",
    "# # divide the dataset into test and train based on the test_ratio parameter\n",
    "# x_train, x_test, y_train, y_test = train_test_split(X,\n",
    "#                                                     y,\n",
    "#                                                     test_size=test_ratio,\n",
    "#                                                     random_state=random_state_train_test)\n",
    "\n",
    "# # reshape the data\n",
    "# x_train = np.asarray(x_train)\n",
    "# y_train = np.asarray(y_train)\n",
    "# x_test = np.asarray(x_test)\n",
    "# y_test = np.asarray(y_test)\n",
    "\n",
    "# # compute input dimensions\n",
    "# n_train = x_train.shape[0]\n",
    "# in_shape = x_train.shape[1]\n",
    "\n",
    "# # display basic information\n",
    "# print(\"Dataset: %s\" % (dataset_name))\n",
    "# print(\"Dimensions: train set (n=%d, p=%d) ; test set (n=%d, p=%d)\" % \n",
    "#       (x_train.shape[0], x_train.shape[1], x_test.shape[0], x_test.shape[1]))"
   ]
  },
  {
   "cell_type": "code",
   "execution_count": 3,
   "id": "prostate-detector",
   "metadata": {},
   "outputs": [],
   "source": [
    "# # divide the data into proper training set and calibration set\n",
    "# idx = np.random.permutation(n_train)\n",
    "# n_half = int(np.floor(n_train/2))\n",
    "# idx_train, idx_cal = idx[:n_half], idx[n_half:2*n_half]\n",
    "\n",
    "# # zero mean and unit variance scaling \n",
    "# scalerX = StandardScaler()\n",
    "# scalerX = scalerX.fit(x_train[idx_train])\n",
    "\n",
    "# # scale\n",
    "# x_train = scalerX.transform(x_train)\n",
    "# x_test = scalerX.transform(x_test)\n",
    "\n",
    "# # scale the labels by dividing each by the mean absolute response\n",
    "# mean_y_train = np.mean(np.abs(y_train[idx_train]))\n",
    "# y_train = np.squeeze(y_train)/mean_y_train\n",
    "# y_test = np.squeeze(y_test)/mean_y_train"
   ]
  },
  {
   "cell_type": "code",
   "execution_count": 4,
   "id": "signed-bhutan",
   "metadata": {},
   "outputs": [],
   "source": [
    "# number of training examples\n",
    "n_train = 2000\n",
    "# number of test examples (to evaluate average coverage and length)\n",
    "n_test = 5000\n",
    "\n",
    "def f(x):\n",
    "    ''' Construct data (1D example)\n",
    "    '''\n",
    "    ax = 0*x\n",
    "    for i in range(len(x)):\n",
    "        ax[i] = np.random.poisson(np.sin(x[i])**2+0.1) + 0.03*x[i]*np.random.randn(1)\n",
    "        ax[i] += 25*(np.random.uniform(0,1,1)<0.01)*np.random.randn(1)\n",
    "    return ax.astype(np.float32)\n",
    "\n",
    "# training features\n",
    "x_train = np.random.uniform(0, 5.0, size=n_train).astype(np.float32)\n",
    "\n",
    "# test features\n",
    "x_test = np.random.uniform(0, 5.0, size=n_test).astype(np.float32)\n",
    "\n",
    "# generate labels\n",
    "y_train = f(x_train)\n",
    "y_test = f(x_test)\n",
    "\n",
    "# reshape the features\n",
    "x_train = np.reshape(x_train,(n_train,1))\n",
    "x_test = np.reshape(x_test,(n_test,1))"
   ]
  },
  {
   "cell_type": "code",
   "execution_count": 5,
   "id": "wireless-tsunami",
   "metadata": {},
   "outputs": [],
   "source": [
    "# divide the data into proper training set and calibration set\n",
    "idx = np.random.permutation(n_train)\n",
    "n_half = int(np.floor(n_train/2))\n",
    "idx_train, idx_cal = idx[:n_half], idx[n_half:2*n_half]"
   ]
  },
  {
   "cell_type": "code",
   "execution_count": 6,
   "id": "final-framework",
   "metadata": {},
   "outputs": [],
   "source": [
    "class Net(torch.nn.Module):\n",
    "    def __init__(self, n_feature):\n",
    "        super(Net, self).__init__()\n",
    "        self.net = torch.nn.Sequential(torch.nn.Linear(n_feature, 64),\n",
    "                                       torch.nn.ReLU(),\n",
    "                                       #torch.nn.Dropout(0.1),\n",
    "                                       torch.nn.Linear(64, 64),\n",
    "                                       torch.nn.ReLU(),\n",
    "                                       #torch.nn.Dropout(0.1),\n",
    "                                       torch.nn.Linear(64, 2)\n",
    "        )\n",
    "        self.init_weights()\n",
    "    \n",
    "    def init_weights(self):\n",
    "        for m in self.net:\n",
    "            if isinstance(m, torch.nn.Linear):\n",
    "                torch.nn.init.orthogonal_(m.weight)\n",
    "                torch.nn.init.constant_(m.bias, 0)\n",
    "        \n",
    "\n",
    "    def forward(self, x):\n",
    "        x = self.net(x)             # linear output\n",
    "        return x"
   ]
  },
  {
   "cell_type": "code",
   "execution_count": 20,
   "id": "framed-steal",
   "metadata": {},
   "outputs": [],
   "source": [
    "net = Net(n_feature=1) \n",
    "optimizer = torch.optim.SGD(net.parameters(), lr=0.01, weight_decay=1e-6)\n",
    "def loss_func(y, yhat, alpha):\n",
    "    return torch.maximum(alpha*(y-yhat),(1-alpha)*(yhat-y))"
   ]
  },
  {
   "cell_type": "code",
   "execution_count": 21,
   "id": "infectious-awareness",
   "metadata": {},
   "outputs": [],
   "source": [
    "tensor_xtrain = torch.Tensor(x_train[idx_train]) # transform to torch tensor\n",
    "tensor_ytrain = torch.Tensor(y_train[idx_train])\n",
    "\n",
    "train_dataset = TensorDataset(tensor_xtrain,tensor_ytrain) # create your datset\n",
    "train_dataloader = DataLoader(train_dataset, batch_size=64, shuffle=True) # create your dataloader\n",
    "\n",
    "tensor_xcal = torch.Tensor(x_train[idx_cal]) # transform to torch tensor\n",
    "tensor_ycal = torch.Tensor(y_train[idx_cal])\n",
    "\n",
    "cal_dataset = TensorDataset(tensor_xcal,tensor_ycal) # create your datset\n",
    "cal_dataloader = DataLoader(cal_dataset, batch_size=400, shuffle=False) # create your dataloader\n",
    "\n",
    "tensor_xtest = torch.Tensor(x_test) # transform to torch tensor\n",
    "tensor_ytest = torch.Tensor(y_test)\n",
    "\n",
    "test_dataset = TensorDataset(tensor_xtest,tensor_ytest) # create your datset\n",
    "test_dataloader = DataLoader(test_dataset, batch_size=400, shuffle=False) # create your dataloader"
   ]
  },
  {
   "cell_type": "code",
   "execution_count": 22,
   "id": "boxed-disaster",
   "metadata": {},
   "outputs": [
    {
     "name": "stderr",
     "output_type": "stream",
     "text": [
      "100%|██████████| 1000/1000 [00:11<00:00, 84.44it/s]\n"
     ]
    }
   ],
   "source": [
    "net.train()\n",
    "for t in tqdm(range(1000)):\n",
    "    itera = iter(train_dataloader)\n",
    "    for i in range(len(itera)):\n",
    "        x,y = next(itera)\n",
    "        prediction = net(x)     # input x and predict based on x\n",
    "\n",
    "        loss1 = loss_func(y, prediction[:,0], quantiles[0])\n",
    "        loss2 = loss_func(y, prediction[:,1], quantiles[1])\n",
    "        loss = (loss1+loss2).mean()\n",
    "\n",
    "        optimizer.zero_grad()   # clear gradients for next train\n",
    "        loss.backward()         # backpropagation, compute gradients\n",
    "        optimizer.step()        # apply gradients"
   ]
  },
  {
   "cell_type": "code",
   "execution_count": 23,
   "id": "serious-tract",
   "metadata": {},
   "outputs": [],
   "source": [
    "def predict(net, dataloader):\n",
    "    iteracal = iter(dataloader)\n",
    "    xs = []\n",
    "    ys = []\n",
    "    preds = []\n",
    "    net.eval()\n",
    "    for i in range(len(iteracal)):\n",
    "        x,y = next(iteracal)\n",
    "        with torch.no_grad():\n",
    "            prediction = net(x)     # input x and predict based on x\n",
    "\n",
    "            #loss = loss_func(y, prediction[:,0], quantiles[0])\n",
    "            #loss = loss_func(y, prediction[:,1], quantiles[1])\n",
    "\n",
    "            preds.append(prediction.numpy())      # apply gradients\n",
    "            xs.append(x)\n",
    "            ys.append(y)\n",
    "    preds = np.concatenate(preds)\n",
    "    xs = np.concatenate(xs)\n",
    "    ys = np.concatenate(ys)\n",
    "    return xs, ys, preds"
   ]
  },
  {
   "cell_type": "code",
   "execution_count": 24,
   "id": "controversial-double",
   "metadata": {},
   "outputs": [],
   "source": [
    "def conformalize(net, cal_dataloader, alpha):\n",
    "    xs, ys, preds = predict(net, cal_dataloader)\n",
    "    E = np.maximum(preds[:,0]-ys, ys-preds[:,1])\n",
    "    E = np.sort(E)\n",
    "    quantile = (1-alpha)*(1+(1/len(E)))*len(E)\n",
    "    print(\"Quantile of E :\", quantile)\n",
    "    quantile = int(np.ceil(quantile))\n",
    "    print(\"Quantile of E (ceil):\", quantile)\n",
    "    Q = E[quantile]\n",
    "    return Q"
   ]
  },
  {
   "cell_type": "code",
   "execution_count": 25,
   "id": "caring-stage",
   "metadata": {},
   "outputs": [],
   "source": [
    "def plot_func(x,\n",
    "              y,\n",
    "              y_u=None,\n",
    "              y_l=None,\n",
    "              pred=None,\n",
    "              shade_color=\"\",\n",
    "              method_name=\"\",\n",
    "              title=\"\",\n",
    "              filename=None,\n",
    "              save_figures=False,\n",
    "              zoom=True):\n",
    "    \n",
    "    \"\"\" Scatter plot of (x,y) points along with the constructed prediction interval \n",
    "    \n",
    "    Parameters\n",
    "    ----------\n",
    "    x : numpy array, corresponding to the feature of each of the n samples\n",
    "    y : numpy array, target response variable (length n)\n",
    "    pred : numpy array, the estimated prediction. It may be the conditional mean,\n",
    "           or low and high conditional quantiles.\n",
    "    shade_color : string, desired color of the prediciton interval\n",
    "    method_name : string, name of the method\n",
    "    title : string, the title of the figure\n",
    "    filename : sting, name of the file to save the figure\n",
    "    save_figures : boolean, save the figure (True) or not (False)\n",
    "    \n",
    "    \"\"\"\n",
    "\n",
    "    max_show = 1000\n",
    "    x_ = x[:max_show]\n",
    "    y_ = y[:max_show]\n",
    "    if y_u is not None:\n",
    "        y_u_ = y_u[:max_show]\n",
    "    if y_l is not None:\n",
    "        y_l_ = y_l[:max_show]\n",
    "    if pred is not None:\n",
    "        pred_ = pred[:max_show]\n",
    "\n",
    "    fig = plt.figure()\n",
    "    inds = np.argsort(np.squeeze(x_))\n",
    "    plt.plot(x_[inds,:], y_[inds], 'k.', alpha=.2, markersize=10,\n",
    "             fillstyle='none', label=u'Observations')\n",
    "    \n",
    "    if (y_u is not None) and (y_l is not None):\n",
    "        plt.fill(np.concatenate([x_[inds], x_[inds][::-1]]),\n",
    "                 np.concatenate([y_u_[inds], y_l_[inds][::-1]]),\n",
    "                 alpha=.3, fc=shade_color, ec='None',\n",
    "                 label = method_name + ' prediction interval')\n",
    "    \n",
    "    if pred is not None:\n",
    "        if pred_.ndim == 2:\n",
    "            plt.plot(x_[inds,:], pred_[inds,0], 'k', lw=2, alpha=0.9,\n",
    "                     label=u'Predicted low and high quantiles')\n",
    "            plt.plot(x_[inds,:], pred_[inds,1], 'k', lw=2, alpha=0.9)\n",
    "        else:\n",
    "            plt.plot(x_[inds,:], pred_[inds], 'k--', lw=2, alpha=0.9,\n",
    "                     label=u'Predicted value')\n",
    "    \n",
    "    if zoom:\n",
    "        plt.ylim([-2.5, 7])\n",
    "    plt.xlabel('$X$')\n",
    "    plt.ylabel('$Y$')\n",
    "    plt.legend(loc='upper right')\n",
    "    plt.title(title)\n",
    "    if save_figures and (filename is not None):\n",
    "        plt.savefig(filename, bbox_inches='tight', dpi=300)\n",
    "    \n",
    "    plt.show()"
   ]
  },
  {
   "cell_type": "code",
   "execution_count": 26,
   "id": "wrong-transportation",
   "metadata": {},
   "outputs": [
    {
     "name": "stdout",
     "output_type": "stream",
     "text": [
      "Quantile of E : 990.9899999999999\n",
      "Quantile of E (ceil): 991\n"
     ]
    }
   ],
   "source": [
    "xt, yt, predt = predict(net, test_dataloader)\n",
    "Q = conformalize(net, cal_dataloader, alpha)\n",
    "final_predt = predt + np.array([[-Q, Q]])"
   ]
  },
  {
   "cell_type": "code",
   "execution_count": 27,
   "id": "german-watson",
   "metadata": {},
   "outputs": [
    {
     "data": {
      "image/png": "[encoded data removed]",
      "text/plain": [
       "<Figure size 432x288 with 1 Axes>"
      ]
     },
     "metadata": {
      "needs_background": "light"
     },
     "output_type": "display_data"
    }
   ],
   "source": [
    "split_color = 'tomato'\n",
    "local_color = 'gray'\n",
    "cqr_color = 'blue'\n",
    "\n",
    "plot_func(x_test, y_test, final_predt[:,0], final_predt[:,1], pred=predt,\n",
    "          shade_color=cqr_color,\n",
    "          method_name=\"CQR:\",title=\"CQR Random Forests (quantile regression)\",zoom=False)"
   ]
  },
  {
   "cell_type": "code",
   "execution_count": 28,
   "id": "fitted-revelation",
   "metadata": {},
   "outputs": [],
   "source": [
    "def conformality_score(y, C):\n",
    "    score = np.logical_and(y>=C[:,0],y<=C[:,1])\n",
    "    return score.mean()"
   ]
  },
  {
   "cell_type": "code",
   "execution_count": 29,
   "id": "falling-conspiracy",
   "metadata": {},
   "outputs": [
    {
     "data": {
      "text/plain": [
       "0.9948"
      ]
     },
     "execution_count": 29,
     "metadata": {},
     "output_type": "execute_result"
    }
   ],
   "source": [
    "conformality_score(yt, predt)"
   ]
  },
  {
   "cell_type": "code",
   "execution_count": 30,
   "id": "based-speed",
   "metadata": {},
   "outputs": [
    {
     "data": {
      "text/plain": [
       "0.997"
      ]
     },
     "execution_count": 30,
     "metadata": {},
     "output_type": "execute_result"
    }
   ],
   "source": [
    "conformality_score(yt, final_predt)"
   ]
  },
  {
   "cell_type": "code",
   "execution_count": 31,
   "id": "verified-shelter",
   "metadata": {},
   "outputs": [
    {
     "data": {
      "text/plain": [
       "8.953573"
      ]
     },
     "execution_count": 31,
     "metadata": {},
     "output_type": "execute_result"
    }
   ],
   "source": [
    "Q"
   ]
  },
  {
   "cell_type": "code",
   "execution_count": 32,
   "id": "obvious-lightweight",
   "metadata": {},
   "outputs": [
    {
     "data": {
      "text/plain": [
       "30.545528"
      ]
     },
     "execution_count": 32,
     "metadata": {},
     "output_type": "execute_result"
    }
   ],
   "source": [
    "(final_predt[:,1]-final_predt[:,0]).mean()"
   ]
  },
  {
   "cell_type": "code",
   "execution_count": null,
   "id": "surgical-offering",
   "metadata": {},
   "outputs": [],
   "source": []
  }
 ],
 "metadata": {
  "kernelspec": {
   "display_name": "Python 3",
   "language": "python",
   "name": "python3"
  },
  "language_info": {
   "codemirror_mode": {
    "name": "ipython",
    "version": 3
   },
   "file_extension": ".py",
   "mimetype": "text/x-python",
   "name": "python",
   "nbconvert_exporter": "python",
   "pygments_lexer": "ipython3",
   "version": "3.8.10"
  }
 },
 "nbformat": 4,
 "nbformat_minor": 5
}
